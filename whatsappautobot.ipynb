{
 "cells": [
  {
   "cell_type": "code",
   "execution_count": 13,
   "metadata": {},
   "outputs": [],
   "source": [
    "import time\n",
    "from selenium.webdriver import Chrome\n",
    "from selenium.webdriver.firefox.options import Options\n"
   ]
  },
  {
   "cell_type": "code",
   "execution_count": 6,
   "metadata": {},
   "outputs": [],
   "source": [
    "\n",
    "class WhatsAppBot():\n",
    "    \n",
    "    MESSAGE = ''\n",
    "    REPEAT = 100\n",
    "    PERSON = ''\n",
    "    ENTER_KEY = u'\\ue007'\n",
    "    URL = 'https://web.whatsapp.com/'\n",
    "    def __init__(self):\n",
    "        '''\n",
    "        initilizes headless browser and chrome instace.\n",
    "        '''\n",
    "        #create headless browser and a chrome instance\n",
    "        opts = Options()\n",
    "        opts.set_headless()\n",
    "        self.browser = Chrome(options = opts)\n",
    "        self.browser.get(self.URL)\n",
    "      \n",
    "        \n",
    "        \n",
    "    def send_message(self):\n",
    "        '''\n",
    "        send_message: finds search bar, PERSON identifier\n",
    "                      and message box.\n",
    "                      sends a message REPEAT times.\n",
    "        '''\n",
    "        time.sleep(5)\n",
    "        search = self.browser.find_element_by_class_name('jN-F5')\n",
    "        search.send_keys(self.PERSON)\n",
    "        time.sleep(5)\n",
    "        search_result = self.browser.find_element_by_class_name('Qgzj8')\n",
    "        search_result.click()\n",
    "        text_box = self.browser.find_element_by_class_name('_2S1VP')\n",
    "        for i in range(self.REPEAT):\n",
    "            text_box.send_keys(self.MESSAGE)\n",
    "            text_box.send_keys(self.ENTER_KEY)\n",
    "        \n",
    "        \n",
    "        \n",
    "        \n",
    "        "
   ]
  },
  {
   "cell_type": "code",
   "execution_count": 6,
   "metadata": {},
   "outputs": [],
   "source": [
    "if __name__ == '__main__':\n",
    "    bot = WhatsAppBot()\n",
    "    bot.send_message()\n",
    "    "
   ]
  },
  {
   "cell_type": "code",
   "execution_count": 48,
   "metadata": {},
   "outputs": [],
   "source": []
  },
  {
   "cell_type": "code",
   "execution_count": null,
   "metadata": {},
   "outputs": [],
   "source": []
  },
  {
   "cell_type": "code",
   "execution_count": null,
   "metadata": {},
   "outputs": [],
   "source": []
  },
  {
   "cell_type": "code",
   "execution_count": null,
   "metadata": {},
   "outputs": [],
   "source": []
  }
 ],
 "metadata": {
  "kernelspec": {
   "display_name": "Python 3",
   "language": "python",
   "name": "python3"
  },
  "language_info": {
   "codemirror_mode": {
    "name": "ipython",
    "version": 3
   },
   "file_extension": ".py",
   "mimetype": "text/x-python",
   "name": "python",
   "nbconvert_exporter": "python",
   "pygments_lexer": "ipython3",
   "version": "3.6.7"
  }
 },
 "nbformat": 4,
 "nbformat_minor": 2
}
